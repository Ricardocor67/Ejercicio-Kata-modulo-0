{
 "cells": [
  {
   "cell_type": "markdown",
   "metadata": {},
   "source": [
    "# Ejercicio - Escribir declaraciones if, else, y elif"
   ]
  },
  {
   "cell_type": "markdown",
   "metadata": {},
   "source": [
    "Para este ejercicio, escribirás una lógica condicional que imprima una advertencia si un asteroide se acerca a la Tierra demasiado rápido. La velocidad del asteroide varía dependiendo de lo cerca que esté del sol, y cualquier velocidad superior a 25 kilómetros por segundo (km/s) merece una advertencia.\n",
    "\n",
    "* Un asteroide se acerca, y viaja a una velocidad de 49 km/s."
   ]
  },
  {
   "cell_type": "code",
   "execution_count": 1,
   "metadata": {},
   "outputs": [
    {
     "name": "stdout",
     "output_type": "stream",
     "text": [
      "Alerta! Asteroide en camino\n"
     ]
    }
   ],
   "source": [
    "velocidad_asteroide = 49\n",
    "\n",
    "if velocidad_asteroide > 25:\n",
    "    print(\"Alerta! Asteroide en camino\")\n",
    "else:\n",
    "    print(\"Por el momento estamos a salvo\")"
   ]
  },
  {
   "cell_type": "code",
   "execution_count": 2,
   "metadata": {},
   "outputs": [
    {
     "name": "stdout",
     "output_type": "stream",
     "text": [
      "No hay de que preocuparse, por el momento estamos a salvo\n"
     ]
    }
   ],
   "source": [
    "velocidad_asteroide = 20\n",
    "\n",
    "if velocidad_asteroide > 25:\n",
    "    print(\"Alerta! Asteroide en camino\")\n",
    "else:\n",
    "    print(\"No hay de que preocuparse, por el momento estamos a salvo\")"
   ]
  },
  {
   "cell_type": "markdown",
   "metadata": {},
   "source": [
    "Si un asteroide entra en la atmósfera de la Tierra a una velocidad mayor o igual a 20 km/s, a veces produce un rayo de luz que se puede ver desde la Tierra. Escribe la lógica condicional que usa declaraciones if, else, y elif para alertar a las personas de todo el mundo que deben buscar un asteroide en el cielo. ¡Hay uno que se dirige a la tierra ahora a una velocidad de 19 km/s!"
   ]
  },
  {
   "cell_type": "code",
   "execution_count": 3,
   "metadata": {},
   "outputs": [
    {
     "name": "stdout",
     "output_type": "stream",
     "text": [
      "No existe riesgo\n"
     ]
    }
   ],
   "source": [
    "velocidad_asteroide = 19\n",
    "\n",
    "if velocidad_asteroide > 20:\n",
    "    print(\"Alerta! Asteroide aproximandose\")\n",
    "elif velocidad_asteroide == 20:\n",
    "    print(f\"El asteroide paso a {velocidad_asteroide}km/s, asómate para verlo\")\n",
    "else:\n",
    "    print(\"No existe riesgo\")"
   ]
  },
  {
   "cell_type": "code",
   "execution_count": 4,
   "metadata": {},
   "outputs": [
    {
     "name": "stdout",
     "output_type": "stream",
     "text": [
      "Alerta! Asteroide aproximandose\n"
     ]
    }
   ],
   "source": [
    "velocidad_asteroide = 25\n",
    "\n",
    "if velocidad_asteroide > 20:\n",
    "    print(\"Alerta! Asteroide aproximandose\")\n",
    "elif velocidad_asteroide == 20:\n",
    "    print(f\"El asteroide paso a {velocidad_asteroide}km/s, asómate para verlo\")\n",
    "else:\n",
    "    print(\"No existe riesgo\")"
   ]
  },
  {
   "cell_type": "markdown",
   "metadata": {},
   "source": [
    "*Los asteroides de menos de 25 metros en su dimensión más grande probablemente se quemarán a medida que entren en la atmósfera de la Tierra.\n",
    "\n",
    "Si una pieza de un asteroide que es más grande que 25 metros pero más pequeña que 1000 metros golpeara la Tierra, causaría mucho daño. También discutimos en el ejercicio anterior que:\n",
    "\n",
    "La velocidad del asteroide varía en función de lo cerca que esté del sol, y cualquier velocidad superior a 25 kilómetros por segundo (km/s) merece una advertencia. Si un asteroide entra en la atmósfera de la Tierra a una velocidad mayor o igual a 20 km/s, a veces produce un rayo de luz que se puede ver desde la Tierra. Usando toda esta información, escribe un programa que emita la advertencia o información correcta a la gente de la Tierra, según la velocidad y el tamaño de un asteroide. Utiliza instrucciones if, else, y elif, así como los operadores and y or."
   ]
  },
  {
   "cell_type": "code",
   "execution_count": 5,
   "metadata": {},
   "outputs": [
    {
     "name": "stdout",
     "output_type": "stream",
     "text": [
      "Alerta de cataclismo! Asteroide aproximandose\n"
     ]
    }
   ],
   "source": [
    "tamano_asteroide = 50\n",
    "velocidad_asteroide = 32\n",
    "\n",
    "if tamano_asteroide > 25 and velocidad_asteroide > 25:\n",
    "    print(\"Alerta de cataclismo! Asteroide aproximandose\")\n",
    "elif tamano_asteroide < 25 and velocidad_asteroide > 25:\n",
    "    print(\"Cuidado con los escombros que pueda dejar caer el asteroide\")\n",
    "elif velocidad_asteroide >= 20:\n",
    "    print(f\"El asteroide paso a {velocidad_asteroide}km/s, asómate para verlo\")\n",
    "elif tamano_asteroide < 25:\n",
    "    print(\"Estaremos a salvo\")\n",
    "else:\n",
    "    print(\"Cielo despejado\")"
   ]
  },
  {
   "cell_type": "markdown",
   "metadata": {},
   "source": []
  }
 ],
 "metadata": {
  "interpreter": {
   "hash": "b89b5cfaba6639976dc87ff2fec6d58faec662063367e2c229c520fe71072417"
  },
  "kernelspec": {
   "display_name": "Python 3.10.2 64-bit",
   "language": "python",
   "name": "python3"
  },
  "language_info": {
   "codemirror_mode": {
    "name": "ipython",
    "version": 3
   },
   "file_extension": ".py",
   "mimetype": "text/x-python",
   "name": "python",
   "nbconvert_exporter": "python",
   "pygments_lexer": "ipython3",
   "version": "3.10.2"
  },
  "orig_nbformat": 4
 },
 "nbformat": 4,
 "nbformat_minor": 2
}
